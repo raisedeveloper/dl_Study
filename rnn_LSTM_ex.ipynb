{
 "cells": [
  {
   "cell_type": "markdown",
   "metadata": {},
   "source": [
    "### RNN 및 LSTM 예제"
   ]
  },
  {
   "cell_type": "markdown",
   "metadata": {},
   "source": [
    "#### 기본 구조 예제"
   ]
  },
  {
   "cell_type": "code",
   "execution_count": 2,
   "metadata": {},
   "outputs": [],
   "source": [
    "import numpy as np\n",
    "import tensorflow as tf\n",
    "from tensorflow.keras.models import Sequential\n",
    "from tensorflow.keras.layers import SimpleRNN, LSTM, Dense\n",
    "from sklearn.model_selection import train_test_split\n",
    "from sklearn.metrics import mean_squared_error"
   ]
  },
  {
   "cell_type": "code",
   "execution_count": 3,
   "metadata": {},
   "outputs": [],
   "source": [
    "# 1. 데이터 준비\n",
    "# 간단한 시계열 데이터 생성 (y = x_t + x_{t-1})\n",
    "def generate_data(seq_length, n_samples):\n",
    "    X, y = [], []\n",
    "    for _ in range(n_samples):\n",
    "        seq = np.random.rand(seq_length)\n",
    "        X.append(seq[:-1]) # 마지막 값을 제외한 입력 시퀀스\n",
    "        y.append(seq[-1]) # 마지막 값이 타겟\n",
    "    return np.array(X), np.array(y)\n",
    "\n",
    "seq_length = 10\n",
    "n_samples = 1000\n",
    "X, y = generate_data(seq_length, n_samples)"
   ]
  },
  {
   "cell_type": "code",
   "execution_count": 4,
   "metadata": {},
   "outputs": [],
   "source": [
    "# 데이터 차원 변환 (RNN/LSTM 입력 형식: (samples, timesteps, features)\n",
    "X = X.reshape((X.shape[0], X.shape[1], 1)) # X.shape[0]: 샘플수, X.shape[1]: 마지막 값을 제외한 시퀀스 수, features = 1\n",
    "X_train, X_test, y_train, y_test = train_test_split(X, y, test_size=0.2, random_state=42)"
   ]
  },
  {
   "cell_type": "code",
   "execution_count": 6,
   "metadata": {},
   "outputs": [
    {
     "name": "stderr",
     "output_type": "stream",
     "text": [
      "c:\\ai_files\\dl_Study\\.venv\\lib\\site-packages\\keras\\src\\layers\\rnn\\rnn.py:200: UserWarning: Do not pass an `input_shape`/`input_dim` argument to a layer. When using Sequential models, prefer using an `Input(shape)` object as the first layer in the model instead.\n",
      "  super().__init__(**kwargs)\n"
     ]
    }
   ],
   "source": [
    "# 2. 모델 정의\n",
    "# RNN 모델\n",
    "rnn_model = Sequential([\n",
    "    SimpleRNN(10, activation='tanh', input_shape=(seq_length -1, 1)),\n",
    "    Dense(1) # 출력값\n",
    "])"
   ]
  },
  {
   "cell_type": "code",
   "execution_count": 7,
   "metadata": {},
   "outputs": [
    {
     "name": "stderr",
     "output_type": "stream",
     "text": [
      "c:\\ai_files\\dl_Study\\.venv\\lib\\site-packages\\keras\\src\\layers\\rnn\\rnn.py:200: UserWarning: Do not pass an `input_shape`/`input_dim` argument to a layer. When using Sequential models, prefer using an `Input(shape)` object as the first layer in the model instead.\n",
      "  super().__init__(**kwargs)\n"
     ]
    }
   ],
   "source": [
    "# LSTM 모델\n",
    "lstm_model = Sequential([\n",
    "    LSTM(10, activation='tanh', input_shape=(seq_length - 1, 1)),\n",
    "    Dense(1)  # 출력값\n",
    "])"
   ]
  },
  {
   "cell_type": "code",
   "execution_count": 8,
   "metadata": {},
   "outputs": [],
   "source": [
    "# 3. 모델 컴파일\n",
    "for model in [rnn_model, lstm_model]:\n",
    "    model.compile(optimizer='adam', loss='mse')"
   ]
  },
  {
   "cell_type": "code",
   "execution_count": null,
   "metadata": {},
   "outputs": [],
   "source": [
    "# # Early Stopping 콜백 설정\n",
    "# callbacks = [\n",
    "#     tf.keras.callbacks.EarlyStopping(\n",
    "#         monitor='val_loss',\n",
    "#         patience=3,\n",
    "#         restore_best_weights=True\n",
    "#     )\n",
    "# ]"
   ]
  },
  {
   "cell_type": "code",
   "execution_count": null,
   "metadata": {},
   "outputs": [],
   "source": [
    "# 4. 모델 학습\n",
    "print(\"Training RNN model...\")\n",
    "rnn_model.fit(X_train, y_train, epochs=10, batch_size=32, verbose=1)\n",
    "# callbacks=callbacks\n",
    "print(\"Training LSTM model...\")\n",
    "lstm_model.fit(X_train, y_train, epochs=10, batch_size=32, verbose=1)\n",
    "# callbacks=callbacks"
   ]
  },
  {
   "cell_type": "code",
   "execution_count": 14,
   "metadata": {},
   "outputs": [
    {
     "name": "stdout",
     "output_type": "stream",
     "text": [
      "\u001b[1m7/7\u001b[0m \u001b[32m━━━━━━━━━━━━━━━━━━━━\u001b[0m\u001b[37m\u001b[0m \u001b[1m0s\u001b[0m 22ms/step\n",
      "\u001b[1m7/7\u001b[0m \u001b[32m━━━━━━━━━━━━━━━━━━━━\u001b[0m\u001b[37m\u001b[0m \u001b[1m0s\u001b[0m 30ms/step\n"
     ]
    }
   ],
   "source": [
    "# 5. 예측 및 평가\n",
    "rnn_predictions = rnn_model.predict(X_test)\n",
    "lstm_predictions = lstm_model.predict(X_test)"
   ]
  },
  {
   "cell_type": "code",
   "execution_count": 15,
   "metadata": {},
   "outputs": [],
   "source": [
    "# 모델 성능 평가\n",
    "rnn_mse = mean_squared_error(y_test, rnn_predictions)\n",
    "lstm_mse = mean_squared_error(y_test, lstm_predictions)"
   ]
  },
  {
   "cell_type": "code",
   "execution_count": 16,
   "metadata": {},
   "outputs": [
    {
     "name": "stdout",
     "output_type": "stream",
     "text": [
      "RNN MSE: 0.0840\n",
      "LSTM MSE: 0.0858\n"
     ]
    }
   ],
   "source": [
    "print(f\"RNN MSE: {rnn_mse:.4f}\")\n",
    "print(f\"LSTM MSE: {lstm_mse:.4f}\")"
   ]
  }
 ],
 "metadata": {
  "kernelspec": {
   "display_name": ".venv",
   "language": "python",
   "name": "python3"
  },
  "language_info": {
   "codemirror_mode": {
    "name": "ipython",
    "version": 3
   },
   "file_extension": ".py",
   "mimetype": "text/x-python",
   "name": "python",
   "nbconvert_exporter": "python",
   "pygments_lexer": "ipython3",
   "version": "3.10.6"
  }
 },
 "nbformat": 4,
 "nbformat_minor": 2
}
